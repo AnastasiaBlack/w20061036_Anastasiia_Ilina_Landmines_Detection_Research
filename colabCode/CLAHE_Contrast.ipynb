{
  "nbformat": 4,
  "nbformat_minor": 0,
  "metadata": {
    "colab": {
      "provenance": [],
      "authorship_tag": "ABX9TyOevz+fZwhDawgtKB/+EYDL",
      "include_colab_link": true
    },
    "kernelspec": {
      "name": "python3",
      "display_name": "Python 3"
    },
    "language_info": {
      "name": "python"
    }
  },
  "cells": [
    {
      "cell_type": "markdown",
      "metadata": {
        "id": "view-in-github",
        "colab_type": "text"
      },
      "source": [
        "<a href=\"https://colab.research.google.com/github/AnastasiaBlack/w20061036_Anastasiia_Ilina_Landmines_Detection_Research/blob/main/colabFIles/CLAHE_Contrast.ipynb\" target=\"_parent\"><img src=\"https://colab.research.google.com/assets/colab-badge.svg\" alt=\"Open In Colab\"/></a>"
      ]
    },
    {
      "cell_type": "code",
      "source": [
        "!pip install opencv-python"
      ],
      "metadata": {
        "colab": {
          "base_uri": "https://localhost:8080/"
        },
        "id": "B0nduGNnTN_Z",
        "outputId": "7da99579-29e4-47a6-ab47-04818633f1d1"
      },
      "execution_count": null,
      "outputs": [
        {
          "output_type": "stream",
          "name": "stdout",
          "text": [
            "Requirement already satisfied: opencv-python in /usr/local/lib/python3.10/dist-packages (4.8.0.76)\n",
            "Requirement already satisfied: numpy>=1.21.2 in /usr/local/lib/python3.10/dist-packages (from opencv-python) (1.23.5)\n"
          ]
        }
      ]
    },
    {
      "cell_type": "code",
      "execution_count": null,
      "metadata": {
        "id": "sPr7Ug8cTK48"
      },
      "outputs": [],
      "source": [
        "import cv2\n",
        "import os\n",
        "from google.colab import drive\n",
        "\n",
        "# Mount Google Drive (to access the 'train' folder if it's in Google Drive)\n",
        "drive.mount('/content/drive')\n",
        "\n",
        "# Specify the path to the 'train' folder\n",
        "train_folder_path = '/content/drive/My Drive/path_to_train_folder'\n",
        "\n",
        "# Create a CLAHE object (with default parameters here)\n",
        "clahe = cv2.createCLAHE()\n",
        "\n",
        "# Loop through each file in the 'train' folder\n",
        "for filename in os.listdir(train_folder_path):\n",
        "    if filename.endswith(\".jpg\") or filename.endswith(\".png\"): # Add other file types if needed\n",
        "        # Read the image\n",
        "        img = cv2.imread(os.path.join(train_folder_path, filename), cv2.IMREAD_GRAYSCALE) # Assuming grayscale images\n",
        "\n",
        "        # Apply CLAHE\n",
        "        enhanced_img = clahe.apply(img)\n",
        "\n",
        "        # Save the enhanced image\n",
        "        cv2.imwrite(os.path.join(train_folder_path, 'enhanced_'+filename), enhanced_img)\n",
        "\n",
        "    else:\n",
        "        continue\n"
      ]
    }
  ]
}