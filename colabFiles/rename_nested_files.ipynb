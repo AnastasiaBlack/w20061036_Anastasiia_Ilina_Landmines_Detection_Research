{
  "nbformat": 4,
  "nbformat_minor": 0,
  "metadata": {
    "colab": {
      "provenance": [],
      "authorship_tag": "ABX9TyOIp+udy1tQw3csvTeSg2GH",
      "include_colab_link": true
    },
    "kernelspec": {
      "name": "python3",
      "display_name": "Python 3"
    },
    "language_info": {
      "name": "python"
    }
  },
  "cells": [
    {
      "cell_type": "markdown",
      "metadata": {
        "id": "view-in-github",
        "colab_type": "text"
      },
      "source": [
        "<a href=\"https://colab.research.google.com/github/AnastasiaBlack/w20061036_Anastasiia_Ilina_Landmines_Detection_Research/blob/main/colabFiles/rename_nested_files.ipynb\" target=\"_parent\"><img src=\"https://colab.research.google.com/assets/colab-badge.svg\" alt=\"Open In Colab\"/></a>"
      ]
    },
    {
      "cell_type": "code",
      "execution_count": null,
      "metadata": {
        "colab": {
          "base_uri": "https://localhost:8080/",
          "height": 357
        },
        "id": "FCTTh3Fwf4Qw",
        "outputId": "695f3595-1ee8-45b4-8aa7-8c8bad4aa079"
      },
      "outputs": [
        {
          "output_type": "error",
          "ename": "FileExistsError",
          "evalue": "ignored",
          "traceback": [
            "\u001b[0;31m---------------------------------------------------------------------------\u001b[0m",
            "\u001b[0;31mFileExistsError\u001b[0m                           Traceback (most recent call last)",
            "\u001b[0;32m<ipython-input-1-052864f7bcce>\u001b[0m in \u001b[0;36m<cell line: 40>\u001b[0;34m()\u001b[0m\n\u001b[1;32m     51\u001b[0m \u001b[0;34m\u001b[0m\u001b[0m\n\u001b[1;32m     52\u001b[0m    \u001b[0;31m# Call the copy_images function with the provided paths\u001b[0m\u001b[0;34m\u001b[0m\u001b[0;34m\u001b[0m\u001b[0m\n\u001b[0;32m---> 53\u001b[0;31m    \u001b[0mcopy_images\u001b[0m\u001b[0;34m(\u001b[0m\u001b[0msource_directory\u001b[0m\u001b[0;34m,\u001b[0m \u001b[0mdestination_directory\u001b[0m\u001b[0;34m)\u001b[0m\u001b[0;34m\u001b[0m\u001b[0;34m\u001b[0m\u001b[0m\n\u001b[0m",
            "\u001b[0;32m<ipython-input-1-052864f7bcce>\u001b[0m in \u001b[0;36mcopy_images\u001b[0;34m(source_dir, destination_dir)\u001b[0m\n\u001b[1;32m      8\u001b[0m \u001b[0;32mdef\u001b[0m \u001b[0mcopy_images\u001b[0m\u001b[0;34m(\u001b[0m\u001b[0msource_dir\u001b[0m\u001b[0;34m,\u001b[0m \u001b[0mdestination_dir\u001b[0m\u001b[0;34m)\u001b[0m\u001b[0;34m:\u001b[0m\u001b[0;34m\u001b[0m\u001b[0;34m\u001b[0m\u001b[0m\n\u001b[1;32m      9\u001b[0m    \u001b[0;31m# Create the destination directory if it doesn't exist\u001b[0m\u001b[0;34m\u001b[0m\u001b[0;34m\u001b[0m\u001b[0m\n\u001b[0;32m---> 10\u001b[0;31m    \u001b[0mos\u001b[0m\u001b[0;34m.\u001b[0m\u001b[0mmakedirs\u001b[0m\u001b[0;34m(\u001b[0m\u001b[0mdestination_dir\u001b[0m\u001b[0;34m,\u001b[0m \u001b[0mexist_ok\u001b[0m\u001b[0;34m=\u001b[0m\u001b[0;32mTrue\u001b[0m\u001b[0;34m)\u001b[0m\u001b[0;34m\u001b[0m\u001b[0;34m\u001b[0m\u001b[0m\n\u001b[0m\u001b[1;32m     11\u001b[0m \u001b[0;34m\u001b[0m\u001b[0m\n\u001b[1;32m     12\u001b[0m    \u001b[0;31m# Initialize index to avoid overwriting files with the same name\u001b[0m\u001b[0;34m\u001b[0m\u001b[0;34m\u001b[0m\u001b[0m\n",
            "\u001b[0;32m/usr/lib/python3.10/os.py\u001b[0m in \u001b[0;36mmakedirs\u001b[0;34m(name, mode, exist_ok)\u001b[0m\n\u001b[1;32m    223\u001b[0m             \u001b[0;32mreturn\u001b[0m\u001b[0;34m\u001b[0m\u001b[0;34m\u001b[0m\u001b[0m\n\u001b[1;32m    224\u001b[0m     \u001b[0;32mtry\u001b[0m\u001b[0;34m:\u001b[0m\u001b[0;34m\u001b[0m\u001b[0;34m\u001b[0m\u001b[0m\n\u001b[0;32m--> 225\u001b[0;31m         \u001b[0mmkdir\u001b[0m\u001b[0;34m(\u001b[0m\u001b[0mname\u001b[0m\u001b[0;34m,\u001b[0m \u001b[0mmode\u001b[0m\u001b[0;34m)\u001b[0m\u001b[0;34m\u001b[0m\u001b[0;34m\u001b[0m\u001b[0m\n\u001b[0m\u001b[1;32m    226\u001b[0m     \u001b[0;32mexcept\u001b[0m \u001b[0mOSError\u001b[0m\u001b[0;34m:\u001b[0m\u001b[0;34m\u001b[0m\u001b[0;34m\u001b[0m\u001b[0m\n\u001b[1;32m    227\u001b[0m         \u001b[0;31m# Cannot rely on checking for EEXIST, since the operating system\u001b[0m\u001b[0;34m\u001b[0m\u001b[0;34m\u001b[0m\u001b[0m\n",
            "\u001b[0;31mFileExistsError\u001b[0m: [Errno 17] File exists: '/root/.local/share/jupyter/runtime/kernel-491124f4-b406-43df-81fc-860eabf3d67d.json'"
          ]
        }
      ],
      "source": [
        "# Save this script locally as collect_data.py. Run via python .\\collect_data.py .\\older .\\result_all where '.\\older' is the path to the initial files\n",
        "\n",
        "import os\n",
        "import shutil\n",
        "import sys\n",
        "\n",
        "\n",
        "def copy_images(source_dir, destination_dir):\n",
        "   # Create the destination directory if it doesn't exist\n",
        "   os.makedirs(destination_dir, exist_ok=True)\n",
        "\n",
        "   # Initialize index to avoid overwriting files with the same name\n",
        "   index = 660\n",
        "\n",
        "   # Traverse the source directory and its subdirectories\n",
        "   for root, _, files in os.walk(source_dir):\n",
        "       for file in files:\n",
        "           if file.lower().endswith(('.png', '.jpg', '.jpeg', '.gif', '.bmp')):\n",
        "               # Generate a new name by replacing \"Altitude_\" with the name of the nearest enclosing folder\n",
        "               original_path = os.path.join(root, file)\n",
        "\n",
        "               # Extract the name of the nearest enclosing folder\n",
        "               nearest_folder = os.path.basename(os.path.normpath(root))\n",
        "\n",
        "\n",
        "               # Replace \"Altitude_\" with \"{index}_{nearest_folder}_\"\n",
        "               new_name = f\"{index}_{file.replace('FlightAltitude_', f'{nearest_folder}_')}\"\n",
        "               new_name = new_name.replace(' ', '_')\n",
        "\n",
        "\n",
        "               # Copy the file to the destination directory\n",
        "               destination_path = os.path.join(destination_dir, new_name)\n",
        "               shutil.copy2(original_path, destination_path)\n",
        "\n",
        "\n",
        "               # Increment the index for the next file\n",
        "               index += 1\n",
        "\n",
        "\n",
        "if __name__ == \"__main__\":\n",
        "   # Check if the correct number of arguments is provided\n",
        "   if len(sys.argv) != 3:\n",
        "       print(\"Usage: python copy_images_script.py <source_directory> <destination_directory>\")\n",
        "       sys.exit(1)\n",
        "\n",
        "\n",
        "   # Get source and destination paths from command line arguments\n",
        "   source_directory = sys.argv[1]\n",
        "   destination_directory = sys.argv[2]\n",
        "\n",
        "\n",
        "   # Call the copy_images function with the provided paths\n",
        "   copy_images(source_directory, destination_directory)"
      ]
    }
  ]
}