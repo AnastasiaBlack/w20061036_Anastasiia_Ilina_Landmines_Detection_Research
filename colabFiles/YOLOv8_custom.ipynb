{
  "nbformat": 4,
  "nbformat_minor": 0,
  "metadata": {
    "colab": {
      "provenance": [],
      "gpuType": "V100",
      "mount_file_id": "1cFuY7Cd4Oq6IEkXSYu3MKlCvqDKw2PY3",
      "authorship_tag": "ABX9TyNm6Pa+sVV80QxqktnJrR4x",
      "include_colab_link": true
    },
    "kernelspec": {
      "name": "python3",
      "display_name": "Python 3"
    },
    "language_info": {
      "name": "python"
    },
    "accelerator": "GPU"
  },
  "cells": [
    {
      "cell_type": "markdown",
      "metadata": {
        "id": "view-in-github",
        "colab_type": "text"
      },
      "source": [
        "<a href=\"https://colab.research.google.com/github/AnastasiaBlack/w20061036_Anastasiia_Ilina_Landmines_Detection_Research/blob/main/colabFiles/YOLOv8_custom.ipynb\" target=\"_parent\"><img src=\"https://colab.research.google.com/assets/colab-badge.svg\" alt=\"Open In Colab\"/></a>"
      ]
    },
    {
      "cell_type": "code",
      "source": [
        "#GPU info\n",
        "gpu_info = !nvidia-smi\n",
        "gpu_info = '\\n'.join(gpu_info)\n",
        "if gpu_info.find('failed') >= 0:\n",
        "  print('Not connected to a GPU')\n",
        "else:\n",
        "  print(gpu_info)"
      ],
      "metadata": {
        "id": "keHD9PioZDKB"
      },
      "execution_count": null,
      "outputs": []
    },
    {
      "cell_type": "markdown",
      "source": [
        "# New Section"
      ],
      "metadata": {
        "id": "lNrDrVQ55OW9"
      }
    },
    {
      "cell_type": "code",
      "source": [
        "#Memory info\n",
        "from psutil import virtual_memory\n",
        "ram_gb = virtual_memory().total / 1e9\n",
        "print('Your runtime has {:.1f} gigabytes of available RAM\\n'.format(ram_gb))\n",
        "\n",
        "if ram_gb < 20:\n",
        "  print('Not using a high-RAM runtime')\n",
        "else:\n",
        "  print('You are using a high-RAM runtime!')"
      ],
      "metadata": {
        "id": "GegtE7uIZIXq"
      },
      "execution_count": null,
      "outputs": []
    },
    {
      "cell_type": "markdown",
      "source": [
        "https://docs.ultralytics.com/modes/predict/#plotting-results"
      ],
      "metadata": {
        "id": "QfEoxC5JdLfA"
      }
    },
    {
      "cell_type": "markdown",
      "source": [
        "Train the preexisting model (https://docs.ultralytics.com/datasets/detect/#ultralytics-yolo-format)"
      ],
      "metadata": {
        "id": "ekEPmlWXAG-W"
      }
    },
    {
      "cell_type": "code",
      "execution_count": null,
      "metadata": {
        "id": "5dhsSvKh7NnI"
      },
      "outputs": [],
      "source": [
        "!pip install ultralytics\n",
        "from ultralytics import YOLO\n",
        "import time\n",
        "\n",
        "start_time = time.time()  # Start time\n",
        "\n",
        "# Load a model\n",
        "model = YOLO('yolov8n.pt')  # load a pretrained model (recommended for training)\n",
        "\n",
        "# Train the model\n",
        "results = model.train(data='/content/drive/MyDrive/University/Research_Module/dataset/Yolov8_v3_dataset/Landmines detection dataset.v3i.yolov8/data.yaml', epochs=200, imgsz=[336,256], rect=True)\n",
        "\n",
        "end_time = time.time()  # End time\n",
        "\n",
        "training_time = end_time - start_time\n",
        "print(f\"Training time: {training_time} seconds\")\n"
      ]
    },
    {
      "cell_type": "code",
      "source": [
        "# Validate\n",
        "\n",
        "from ultralytics import YOLO\n",
        "\n",
        "# Load a model\n",
        "model = YOLO('yolov8n.pt')  # load an official model\n",
        "model = YOLO('/content/runs/detect/train2/weights/best.pt')  # load a custom model\n",
        "\n",
        "# Validate the model\n",
        "metrics = model.val()  # no arguments needed, dataset and settings remembered\n",
        "metrics.box.map    # map50-95\n",
        "metrics.box.map50  # map50\n",
        "metrics.box.map75  # map75\n",
        "metrics.box.maps   # a list contains map50-95 of each category\n",
        "print(metrics)"
      ],
      "metadata": {
        "id": "yiSh6MnYbgI-"
      },
      "execution_count": null,
      "outputs": []
    },
    {
      "cell_type": "markdown",
      "source": [],
      "metadata": {
        "id": "m0BeVamvrKQ8"
      }
    },
    {
      "cell_type": "code",
      "source": [
        "# !pip install ultralytics\n",
        "from PIL import Image\n",
        "# Prediction\n",
        "from ultralytics import YOLO\n",
        "import os\n",
        "labels=[\"landmines\"]\n",
        "\n",
        "# Load a pretrained YOLOv8n-cls Classify model\n",
        "model = YOLO('/content/runs/detect/train2/weights/best.pt')\n",
        "\n",
        "test_imgs_folder=\"/content/drive/MyDrive/University/Research_Module/dataset/Yolov8_v3_dataset/Landmines detection dataset.v3i.yolov8/test/images\"\n",
        "# test_imgs_folder=\"/content/try\"\n",
        "result_folder = '/content/detection_results_custom_2/'\n",
        "os.makedirs(result_folder, exist_ok=True)\n",
        "os.makedirs(result_folder + 'images/', exist_ok=True)\n",
        "for image_path in os.listdir(test_imgs_folder):\n",
        "  # Run inference on an image\n",
        "  results = model(os.path.join(test_imgs_folder, image_path))\n",
        "\n",
        "  for r in results:\n",
        "      if len(r.boxes)==0:\n",
        "        print(\"File has no detectioins: \", image_path)\n",
        "      for i in range(len(r.boxes)):\n",
        "        class_id = int(r.boxes.cls[i].item())\n",
        "        confidence = int(100 * float(r.boxes.conf[i].item()))\n",
        "        left, bottom, right, top = map(int, r.boxes.xyxy[i].cpu().numpy().tolist())  # Remove [0]\n",
        "\n",
        "        # METRICS FILES PREPARATION \"/content/detection_result/\": Generate the output file path with the same name as the input XML file but with a \".txt\" extension\n",
        "\n",
        "        output_file_path = os.path.join(result_folder, os.path.splitext(os.path.basename(image_path))[0] + \".txt\")\n",
        "        with open(output_file_path, \"w\") as f:\n",
        "          f.write(f\"{labels[class_id]} {confidence} {left} {bottom} {right} {top}\\n\")\n",
        "\n",
        "          # line = f\"{class_id} {confidence:.4f} {left:.4f} {bottom:.4f} {right:.4f} {top:.4f}\\n\"\n",
        "          # print(line)\n",
        "      im_array = r.plot()  # plot a BGR numpy array of predictions\n",
        "      im = Image.fromarray(im_array[..., ::-1])  # RGB PIL image\n",
        "      image_id = image_path.split('_')[0]\n",
        "      im.save(result_folder + 'images/' + image_id+'_results'+'.jpg')  # save image"
      ],
      "metadata": {
        "id": "6A6nJjQ6b6Yn"
      },
      "execution_count": null,
      "outputs": []
    },
    {
      "cell_type": "code",
      "source": [
        "# To get speed for all images:\n",
        "import time\n",
        "start_time = time.time()\n",
        "results = model(test_imgs_folder)\n",
        "end_time = time.time()\n",
        "\n",
        "testing_time = end_time-start_time\n",
        "print('Testing time: ', testing_time)"
      ],
      "metadata": {
        "id": "qjY68_7-Q_R_"
      },
      "execution_count": null,
      "outputs": []
    },
    {
      "cell_type": "code",
      "source": [
        "from google.colab import drive\n",
        "drive.mount('/content/drive')"
      ],
      "metadata": {
        "id": "FAWTRwa1XBmi"
      },
      "execution_count": null,
      "outputs": []
    },
    {
      "cell_type": "markdown",
      "source": [
        "When it comes to evaluating trained YOLOv8 models with test data where ground truth is available, the built-in Val mode in YOLOv8 generally offers the most reliable approach. This mode provides precise metrics—including precision, recall, mAP@.5, mAP@.5:.95—and chart visualization of training versus validation metrics for proper understanding of models' performances."
      ],
      "metadata": {
        "id": "KWAPaPg2XyV5"
      }
    },
    {
      "cell_type": "code",
      "source": [
        "# !pip install ultralytics\n",
        "\n",
        "# from ultralytics import YOLO\n",
        "\n",
        "# model = YOLO('/content/best.pt')\n",
        "results = model.val(\n",
        "    data='/content/drive/MyDrive/University/Research_Module/dataset/Phase2_YOLOv8.v4i.yolov8/data.yaml',\n",
        "    split='test'\n",
        ")\n",
        "results.box.map    # map50-95\n",
        "results.box.map50  # map50\n",
        "results.box.map75  # map75\n",
        "results.box.maps   # a list contains map50-95 of each category\n"
      ],
      "metadata": {
        "id": "1LofcgJkXbik"
      },
      "execution_count": null,
      "outputs": []
    },
    {
      "cell_type": "code",
      "source": [
        "print(results.confusion_matrix.tp_fp())"
      ],
      "metadata": {
        "id": "75ZIWsfWrY3f"
      },
      "execution_count": null,
      "outputs": []
    },
    {
      "cell_type": "markdown",
      "source": [
        "Let's count true positives, false positives and false negatives: https://docs.ultralytics.com/reference/utils/metrics/#ultralytics.utils.metrics.ConfusionMatrix.process_cls_preds"
      ],
      "metadata": {
        "id": "S3CsVTRitVCz"
      }
    },
    {
      "cell_type": "code",
      "source": [
        "def tp_fp(confusion_matrix):\n",
        "    \"\"\"Returns true positives and false positives.\"\"\"\n",
        "    tp = confusion_matrix.matrix.diagonal()  # true positives\n",
        "    fp = confusion_matrix.matrix.sum(1) - tp  # false positives\n",
        "    fn = confusion_matrix.matrix.sum(0) - tp  # false negatives (missed detections)\n",
        "    return (tp[:-1], fp[:-1], fn[:-1]) if confusion_matrix.task == 'detect' else (tp, fp, fn)  # remove background class if task=detect\n",
        "\n",
        "tp, fp, fn = tp_fp(results.confusion_matrix)\n",
        "print('True positive ', tp[0])\n",
        "print('False positive ', fp[0])\n",
        "print('False negative ', fn[0])\n"
      ],
      "metadata": {
        "id": "aq4N1KwYs9o4"
      },
      "execution_count": null,
      "outputs": []
    },
    {
      "cell_type": "code",
      "source": [
        "print('Precision: ' , results.box.mp)\n",
        "print('Recall: ' , results.box.mr)\n",
        "print('F1 score: ' , results.box.f1)"
      ],
      "metadata": {
        "id": "hUT1Nsu4viQe"
      },
      "execution_count": null,
      "outputs": []
    },
    {
      "cell_type": "code",
      "source": [
        "# Analyze the results to count false negatives\n",
        "false_negatives_count = 0\n",
        "# for result in results:\n",
        "print(results)\n",
        "    # for pred in result['pred']:\n",
        "    #     if not pred:  # If no predictions were made\n",
        "    #         false_negatives_count += 1\n"
      ],
      "metadata": {
        "id": "cSXtjyfAmik2"
      },
      "execution_count": null,
      "outputs": []
    },
    {
      "cell_type": "code",
      "source": [
        "# ZIP folder with all the content\n",
        "import shutil\n",
        "\n",
        "# 1) Create a zip file for default test validation results with curves pngs:\n",
        "shutil.make_archive('/content/yolov8_detection_runs_val', 'zip', '/content/runs')\n",
        "from google.colab import files\n",
        "files.download('/content/yolov8_detection_runs_val.zip')\n",
        "\n",
        "\n",
        "# 2) Create a zip file for custom detection txt files with bounding boxes:\n",
        "shutil.make_archive('/content/detection_results_custom_2', 'zip', '/content/detection_results_custom_2')\n",
        "\n",
        "from google.colab import files\n",
        "files.download('/content/detection_results_custom_2.zip')\n"
      ],
      "metadata": {
        "colab": {
          "base_uri": "https://localhost:8080/",
          "height": 17
        },
        "id": "pFJ6nuxPZH3U",
        "outputId": "c8a4715f-4145-4e1e-e123-029663f51a6b"
      },
      "execution_count": null,
      "outputs": [
        {
          "output_type": "display_data",
          "data": {
            "text/plain": [
              "<IPython.core.display.Javascript object>"
            ],
            "application/javascript": [
              "\n",
              "    async function download(id, filename, size) {\n",
              "      if (!google.colab.kernel.accessAllowed) {\n",
              "        return;\n",
              "      }\n",
              "      const div = document.createElement('div');\n",
              "      const label = document.createElement('label');\n",
              "      label.textContent = `Downloading \"${filename}\": `;\n",
              "      div.appendChild(label);\n",
              "      const progress = document.createElement('progress');\n",
              "      progress.max = size;\n",
              "      div.appendChild(progress);\n",
              "      document.body.appendChild(div);\n",
              "\n",
              "      const buffers = [];\n",
              "      let downloaded = 0;\n",
              "\n",
              "      const channel = await google.colab.kernel.comms.open(id);\n",
              "      // Send a message to notify the kernel that we're ready.\n",
              "      channel.send({})\n",
              "\n",
              "      for await (const message of channel.messages) {\n",
              "        // Send a message to notify the kernel that we're ready.\n",
              "        channel.send({})\n",
              "        if (message.buffers) {\n",
              "          for (const buffer of message.buffers) {\n",
              "            buffers.push(buffer);\n",
              "            downloaded += buffer.byteLength;\n",
              "            progress.value = downloaded;\n",
              "          }\n",
              "        }\n",
              "      }\n",
              "      const blob = new Blob(buffers, {type: 'application/binary'});\n",
              "      const a = document.createElement('a');\n",
              "      a.href = window.URL.createObjectURL(blob);\n",
              "      a.download = filename;\n",
              "      div.appendChild(a);\n",
              "      a.click();\n",
              "      div.remove();\n",
              "    }\n",
              "  "
            ]
          },
          "metadata": {}
        },
        {
          "output_type": "display_data",
          "data": {
            "text/plain": [
              "<IPython.core.display.Javascript object>"
            ],
            "application/javascript": [
              "download(\"download_e174565a-0995-4e85-ad79-1c3954ff48d3\", \"yolov8_detection_runs_val.zip\", 34381574)"
            ]
          },
          "metadata": {}
        },
        {
          "output_type": "display_data",
          "data": {
            "text/plain": [
              "<IPython.core.display.Javascript object>"
            ],
            "application/javascript": [
              "\n",
              "    async function download(id, filename, size) {\n",
              "      if (!google.colab.kernel.accessAllowed) {\n",
              "        return;\n",
              "      }\n",
              "      const div = document.createElement('div');\n",
              "      const label = document.createElement('label');\n",
              "      label.textContent = `Downloading \"${filename}\": `;\n",
              "      div.appendChild(label);\n",
              "      const progress = document.createElement('progress');\n",
              "      progress.max = size;\n",
              "      div.appendChild(progress);\n",
              "      document.body.appendChild(div);\n",
              "\n",
              "      const buffers = [];\n",
              "      let downloaded = 0;\n",
              "\n",
              "      const channel = await google.colab.kernel.comms.open(id);\n",
              "      // Send a message to notify the kernel that we're ready.\n",
              "      channel.send({})\n",
              "\n",
              "      for await (const message of channel.messages) {\n",
              "        // Send a message to notify the kernel that we're ready.\n",
              "        channel.send({})\n",
              "        if (message.buffers) {\n",
              "          for (const buffer of message.buffers) {\n",
              "            buffers.push(buffer);\n",
              "            downloaded += buffer.byteLength;\n",
              "            progress.value = downloaded;\n",
              "          }\n",
              "        }\n",
              "      }\n",
              "      const blob = new Blob(buffers, {type: 'application/binary'});\n",
              "      const a = document.createElement('a');\n",
              "      a.href = window.URL.createObjectURL(blob);\n",
              "      a.download = filename;\n",
              "      div.appendChild(a);\n",
              "      a.click();\n",
              "      div.remove();\n",
              "    }\n",
              "  "
            ]
          },
          "metadata": {}
        },
        {
          "output_type": "display_data",
          "data": {
            "text/plain": [
              "<IPython.core.display.Javascript object>"
            ],
            "application/javascript": [
              "download(\"download_02607892-1e87-444b-96d3-776f38e8a0ee\", \"detection_results_custom_2.zip\", 5359720)"
            ]
          },
          "metadata": {}
        }
      ]
    },
    {
      "cell_type": "code",
      "source": [
        "import shutil\n",
        "from google.colab import files\n",
        "\n",
        "# 3) Create a zip file for train results:\n",
        "shutil.make_archive('/content/runs/detect/train', 'zip', '/content/runs/detect/train')\n",
        "\n",
        "from google.colab import files\n",
        "files.download('/content/runs/detect/train.zip')"
      ],
      "metadata": {
        "colab": {
          "base_uri": "https://localhost:8080/",
          "height": 17
        },
        "id": "UV67HTB5-NMA",
        "outputId": "e1ff23a9-deeb-4b3e-c211-ef52fc9653ab"
      },
      "execution_count": null,
      "outputs": [
        {
          "output_type": "display_data",
          "data": {
            "text/plain": [
              "<IPython.core.display.Javascript object>"
            ],
            "application/javascript": [
              "\n",
              "    async function download(id, filename, size) {\n",
              "      if (!google.colab.kernel.accessAllowed) {\n",
              "        return;\n",
              "      }\n",
              "      const div = document.createElement('div');\n",
              "      const label = document.createElement('label');\n",
              "      label.textContent = `Downloading \"${filename}\": `;\n",
              "      div.appendChild(label);\n",
              "      const progress = document.createElement('progress');\n",
              "      progress.max = size;\n",
              "      div.appendChild(progress);\n",
              "      document.body.appendChild(div);\n",
              "\n",
              "      const buffers = [];\n",
              "      let downloaded = 0;\n",
              "\n",
              "      const channel = await google.colab.kernel.comms.open(id);\n",
              "      // Send a message to notify the kernel that we're ready.\n",
              "      channel.send({})\n",
              "\n",
              "      for await (const message of channel.messages) {\n",
              "        // Send a message to notify the kernel that we're ready.\n",
              "        channel.send({})\n",
              "        if (message.buffers) {\n",
              "          for (const buffer of message.buffers) {\n",
              "            buffers.push(buffer);\n",
              "            downloaded += buffer.byteLength;\n",
              "            progress.value = downloaded;\n",
              "          }\n",
              "        }\n",
              "      }\n",
              "      const blob = new Blob(buffers, {type: 'application/binary'});\n",
              "      const a = document.createElement('a');\n",
              "      a.href = window.URL.createObjectURL(blob);\n",
              "      a.download = filename;\n",
              "      div.appendChild(a);\n",
              "      a.click();\n",
              "      div.remove();\n",
              "    }\n",
              "  "
            ]
          },
          "metadata": {}
        },
        {
          "output_type": "display_data",
          "data": {
            "text/plain": [
              "<IPython.core.display.Javascript object>"
            ],
            "application/javascript": [
              "download(\"download_56eb759e-848c-4852-ae49-fd3dc7cf2944\", \"train.zip\", 15138353)"
            ]
          },
          "metadata": {}
        }
      ]
    }
  ]
}