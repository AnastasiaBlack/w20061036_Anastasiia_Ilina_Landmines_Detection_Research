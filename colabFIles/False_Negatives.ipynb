{
  "nbformat": 4,
  "nbformat_minor": 0,
  "metadata": {
    "colab": {
      "provenance": [],
      "mount_file_id": "1DYx4XTfueNXOYJhPGOK-p3xxyQWkzIhT",
      "authorship_tag": "ABX9TyMAnK6dPfkkP6cVBIZfX5l4",
      "include_colab_link": true
    },
    "kernelspec": {
      "name": "python3",
      "display_name": "Python 3"
    },
    "language_info": {
      "name": "python"
    }
  },
  "cells": [
    {
      "cell_type": "markdown",
      "metadata": {
        "id": "view-in-github",
        "colab_type": "text"
      },
      "source": [
        "<a href=\"https://colab.research.google.com/github/AnastasiaBlack/w20061036_Anastasiia_Ilina_Landmines_Detection_Research/blob/main/colabFIles/False_Negatives.ipynb\" target=\"_parent\"><img src=\"https://colab.research.google.com/assets/colab-badge.svg\" alt=\"Open In Colab\"/></a>"
      ]
    },
    {
      "cell_type": "code",
      "execution_count": null,
      "metadata": {
        "id": "CFCg8mzpEHwh"
      },
      "outputs": [],
      "source": [
        "import os\n",
        "\n",
        "def parse_bounding_boxes(file_path):\n",
        "    \"\"\"Parse bounding box values from a file.\"\"\"\n",
        "    bounding_boxes = []\n",
        "    with open(file_path, 'r') as file:\n",
        "        for line in file:\n",
        "            parts = line.split()\n",
        "            if len(parts) >= 4:\n",
        "                bbox = tuple(map(int, parts[-4:]))\n",
        "                bounding_boxes.append(bbox)\n",
        "    return bounding_boxes\n",
        "\n",
        "# The method created based on the work of He, K., Gkioxari, G., Dollár, P., & Girshick, R. (2020). and https://www.baeldung.com/cs/object-detection-intersection-vs-union\n",
        "def calculate_iou(box1, box2):\n",
        "    \"\"\"Calculate IoU of two bounding boxes.\"\"\"\n",
        "    # Coordinates of the intersection rectangle\n",
        "    x_left = max(box1[0], box2[0])\n",
        "    y_top = max(box1[1], box2[1])\n",
        "    x_right = min(box1[2], box2[2])\n",
        "    y_bottom = min(box1[3], box2[3])\n",
        "\n",
        "    # No overlap condition\n",
        "    if x_right < x_left or y_bottom < y_top:\n",
        "        return 0.0\n",
        "\n",
        "    # Overlap area\n",
        "    overlap_area = (x_right - x_left) * (y_bottom - y_top)\n",
        "\n",
        "    # Areas of individual boxes\n",
        "    box1_area = (box1[2] - box1[0]) * (box1[3] - box1[1])\n",
        "    box2_area = (box2[2] - box2[0]) * (box2[3] - box2[1])\n",
        "\n",
        "    # Combined area\n",
        "    total_area = box1_area + box2_area - overlap_area\n",
        "\n",
        "    # Intersection over Union\n",
        "    iou = overlap_area / total_area\n",
        "\n",
        "    return iou\n",
        "\n"
      ]
    },
    {
      "cell_type": "code",
      "source": [
        "# Paths to ground truths and predictions (txt_metrics are received from the script that converst xml ground truth to txt)\n",
        "ground_truths_path = \"/content/drive/MyDrive/University/Research_Module/dataset/Phase2_PascalVOC.v4i.voc/test/txt_metrics\"\n",
        "predictions_path = \"/content/drive/MyDrive/University/Research_Module/development/result_SSD_model/phase2/detection_result_txt\"\n",
        "\n",
        "true_positives = 0\n",
        "false_negatives = 0\n",
        "false_positives = 0\n",
        "ground_truth_boxes_total = 0\n",
        "\n",
        "# Iterate through ground truth files\n",
        "for gt_file in os.listdir(ground_truths_path):\n",
        "    if gt_file.endswith(\".txt\"):\n",
        "        gt_file_path = os.path.join(ground_truths_path, gt_file)\n",
        "        pred_file_path = os.path.join(predictions_path, gt_file)\n",
        "\n",
        "        gt_bboxes = parse_bounding_boxes(gt_file_path)\n",
        "        pred_bboxes = parse_bounding_boxes(pred_file_path) if os.path.exists(pred_file_path) else []\n",
        "\n",
        "        # Compare each ground truth bbox to prediction bboxes\n",
        "        for gt_bbox in gt_bboxes:\n",
        "            ground_truth_boxes_total += 1\n",
        "            has_match = False\n",
        "            for pred_bbox in pred_bboxes:\n",
        "                if calculate_iou(gt_bbox, pred_bbox) >= 0.5:\n",
        "                    true_positives += 1\n",
        "                    has_match = True\n",
        "                    break\n",
        "            if not has_match:\n",
        "                print(\"False negative in file: \", gt_file)\n",
        "                false_negatives += 1\n",
        "\n",
        "        for pred_bbox in pred_bboxes:\n",
        "            has_match = False\n",
        "            for gt_bbox in gt_bboxes:\n",
        "                if calculate_iou(pred_bbox, gt_bbox) >= 0.5:\n",
        "                    has_match = True\n",
        "                    break\n",
        "            if not has_match:\n",
        "                print(\"False positive in file: \", gt_file)\n",
        "                false_positives += 1\n",
        "\n",
        "print(\"True Positives:\", true_positives)\n",
        "print(\"False positive:\", false_positives)\n",
        "print(\"False Negatives:\", false_negatives)\n",
        "print(\"Ground truth boxes:\", ground_truth_boxes_total)"
      ],
      "metadata": {
        "colab": {
          "base_uri": "https://localhost:8080/"
        },
        "id": "m8P4oQIFNJhz",
        "outputId": "bcd88572-533b-4ead-f784-e535d569028b"
      },
      "execution_count": null,
      "outputs": [
        {
          "output_type": "stream",
          "name": "stdout",
          "text": [
            "False negative in file:  1274_Zone_7_Mine_5cm_depth__1-2m_TemperatureInCenter__30A-C_jpg.rf.7302dd240888e82f3fe4e2035c4f7143.txt\n",
            "False negative in file:  251_Zone_9_Mine_10_cm_depth__0-5m_TemperatureInCenter__32-C_jpg.rf.a7194aa73a2cd4936b0367c82d4516e6.txt\n",
            "False positive in file:  251_Zone_9_Mine_10_cm_depth__0-5m_TemperatureInCenter__32-C_jpg.rf.a7194aa73a2cd4936b0367c82d4516e6.txt\n",
            "False negative in file:  1186_Zone_9_Mine_10_cm_depth__8-1m_TemperatureInCenter__27A-C_jpg.rf.fefc06f340b8866723e0449cb347a642.txt\n",
            "False negative in file:  1186_Zone_9_Mine_10_cm_depth__8-1m_TemperatureInCenter__27A-C_jpg.rf.fefc06f340b8866723e0449cb347a642.txt\n",
            "False positive in file:  1186_Zone_9_Mine_10_cm_depth__8-1m_TemperatureInCenter__27A-C_jpg.rf.fefc06f340b8866723e0449cb347a642.txt\n",
            "False negative in file:  1169_Zone_8_Mine_5cm_depth__5-0m_TemperatureInCenter__26A-C_jpg.rf.228f45bd7adb5f2c0f7413b239f9459b.txt\n",
            "False positive in file:  1169_Zone_8_Mine_5cm_depth__5-0m_TemperatureInCenter__26A-C_jpg.rf.228f45bd7adb5f2c0f7413b239f9459b.txt\n",
            "False negative in file:  31_Zone_2_Mine_1cm_depth__7-8m_TemperatureInCenter__31-C_jpg.rf.9cf89e974ca0819a73269d04d25b8002.txt\n",
            "False positive in file:  31_Zone_2_Mine_1cm_depth__7-8m_TemperatureInCenter__31-C_jpg.rf.9cf89e974ca0819a73269d04d25b8002.txt\n",
            "False negative in file:  336_Zone_5_Sruface_Mine_0cm_depth__10-m_TemperatureInCenter__47-C_jpg.rf.6b7af2fa7845db5a337e4da4ca467a50.txt\n",
            "False negative in file:  1075_Zone_2_Mine_1cm_depth__0-9m_TemperatureInCenter__27A-C_jpg.rf.7b12514a547460fe1e499bbcabd8819b.txt\n",
            "False positive in file:  1075_Zone_2_Mine_1cm_depth__0-9m_TemperatureInCenter__27A-C_jpg.rf.7b12514a547460fe1e499bbcabd8819b.txt\n",
            "False negative in file:  1174_Zone_8_Mine_5cm_depth__9-8m_TemperatureInCenter__25A-C_jpg.rf.bb8bf31a96a982638c84770fbac74a7a.txt\n",
            "False negative in file:  1174_Zone_8_Mine_5cm_depth__9-8m_TemperatureInCenter__25A-C_jpg.rf.bb8bf31a96a982638c84770fbac74a7a.txt\n",
            "False negative in file:  1174_Zone_8_Mine_5cm_depth__9-8m_TemperatureInCenter__25A-C_jpg.rf.bb8bf31a96a982638c84770fbac74a7a.txt\n",
            "False positive in file:  1174_Zone_8_Mine_5cm_depth__9-8m_TemperatureInCenter__25A-C_jpg.rf.bb8bf31a96a982638c84770fbac74a7a.txt\n",
            "False negative in file:  1223_Zone_3_Mine_1cm_depth__2-8m_TemperatureInCenter__31A-C_jpg.rf.5501f2c53e90ea149a198a5098ece367.txt\n",
            "False positive in file:  1223_Zone_3_Mine_1cm_depth__2-8m_TemperatureInCenter__31A-C_jpg.rf.5501f2c53e90ea149a198a5098ece367.txt\n",
            "False negative in file:  926_Zone_2_Mine_1cm_depth__2-5m_TemperatureInCenter__35A-C_jpg.rf.b3cf1d30387f632396989cedadcc0f79.txt\n",
            "False positive in file:  926_Zone_2_Mine_1cm_depth__2-5m_TemperatureInCenter__35A-C_jpg.rf.b3cf1d30387f632396989cedadcc0f79.txt\n",
            "False negative in file:  344_Zone_5_Sruface_Mine_0cm_depth__6-9m_TemperatureInCenter__42-C_jpg.rf.290724653265152ecf23cf9d17185375.txt\n",
            "False positive in file:  344_Zone_5_Sruface_Mine_0cm_depth__6-9m_TemperatureInCenter__42-C_jpg.rf.290724653265152ecf23cf9d17185375.txt\n",
            "False negative in file:  260_Zone_9_Mine_10_cm_depth__6-9m_TemperatureInCenter__29-C_jpg.rf.48efe2de64b3d11c99a07c8494c12d42.txt\n",
            "False positive in file:  260_Zone_9_Mine_10_cm_depth__6-9m_TemperatureInCenter__29-C_jpg.rf.48efe2de64b3d11c99a07c8494c12d42.txt\n",
            "False negative in file:  1305_Zone_9_Mine_10_cm_depth__10-m_TemperatureInCenter__31A-C_jpg.rf.c39e49d4718b5bf73e9d080923155958.txt\n",
            "False positive in file:  1305_Zone_9_Mine_10_cm_depth__10-m_TemperatureInCenter__31A-C_jpg.rf.c39e49d4718b5bf73e9d080923155958.txt\n",
            "False negative in file:  118_Zone_8_Mine_5cm_depth__9-2m_TemperatureInCenter__29-C_jpg.rf.50b2dc86632c45c46097baa59b3af8d1.txt\n",
            "False negative in file:  118_Zone_8_Mine_5cm_depth__9-2m_TemperatureInCenter__29-C_jpg.rf.50b2dc86632c45c46097baa59b3af8d1.txt\n",
            "False positive in file:  118_Zone_8_Mine_5cm_depth__9-2m_TemperatureInCenter__29-C_jpg.rf.50b2dc86632c45c46097baa59b3af8d1.txt\n",
            "False negative in file:  896_Zone_9_Mine_10_cm_depth__10-m_TemperatureInCenter__29A-C_jpg.rf.f7b1b8a9860859eeff75d3db0473aa94.txt\n",
            "False negative in file:  291_Zone_2_Mine_1cm_depth__4-0m_TemperatureInCenter__30-C_jpg.rf.8b6893c76214d9c71a7008a853ade186.txt\n",
            "False positive in file:  291_Zone_2_Mine_1cm_depth__4-0m_TemperatureInCenter__30-C_jpg.rf.8b6893c76214d9c71a7008a853ade186.txt\n",
            "False negative in file:  261_Zone_9_Mine_10_cm_depth__7-9m_TemperatureInCenter__29-C_jpg.rf.7555753309ce186ace68cdeb9fa3d1b4.txt\n",
            "False negative in file:  153_Zone_2_Mine_1cm_depth__10-m_TemperatureInCenter__30-C_jpg.rf.e6afc78fddc98ed570cbca94c44785e8.txt\n",
            "False negative in file:  153_Zone_2_Mine_1cm_depth__10-m_TemperatureInCenter__30-C_jpg.rf.e6afc78fddc98ed570cbca94c44785e8.txt\n",
            "False negative in file:  1108_Zone_4_Surface_Mine_0cm_depth__10-m_TemperatureInCenter__26A-C_jpg.rf.71b57e4a006849940b1368c241ad2c21.txt\n",
            "False negative in file:  1108_Zone_4_Surface_Mine_0cm_depth__10-m_TemperatureInCenter__26A-C_jpg.rf.71b57e4a006849940b1368c241ad2c21.txt\n",
            "False positive in file:  1108_Zone_4_Surface_Mine_0cm_depth__10-m_TemperatureInCenter__26A-C_jpg.rf.71b57e4a006849940b1368c241ad2c21.txt\n",
            "False negative in file:  18_Zone_2_Mine_1cm_depth__10-m_TemperatureInCenter__34-C_jpg.rf.92672896307367c3528e911b1d7c8f43.txt\n",
            "False positive in file:  18_Zone_2_Mine_1cm_depth__10-m_TemperatureInCenter__34-C_jpg.rf.92672896307367c3528e911b1d7c8f43.txt\n",
            "False negative in file:  143_Zone_1_Mine_1cm_depth__3-9m_TemperatureInCenter__29-C_jpg.rf.f93d7e227911dc912af7f9a39de132de.txt\n",
            "False positive in file:  143_Zone_1_Mine_1cm_depth__3-9m_TemperatureInCenter__29-C_jpg.rf.f93d7e227911dc912af7f9a39de132de.txt\n",
            "True Positives: 94\n",
            "False positive: 16\n",
            "False Negatives: 27\n",
            "Ground truth boxes: 121\n"
          ]
        }
      ]
    }
  ]
}